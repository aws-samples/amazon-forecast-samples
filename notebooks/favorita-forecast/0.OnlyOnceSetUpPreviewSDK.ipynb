{
 "cells": [
  {
   "cell_type": "code",
   "execution_count": 1,
   "metadata": {},
   "outputs": [],
   "source": [
    "# Configures your AWS CLI to now understand our up and coming service Amazon Forecast\n",
    "!aws configure add-model --service-model file://../../sdk/forecastquery-2018-06-26.normal.json --service-name forecastquery\n",
    "!aws configure add-model --service-model file://../../sdk/forecast-2018-06-26.normal.json --service-name forecast"
   ]
  },
  {
   "cell_type": "code",
   "execution_count": 15,
   "metadata": {},
   "outputs": [
    {
     "name": "stdout",
     "output_type": "stream",
     "text": [
      "\n",
      "7-Zip [64] 16.02 : Copyright (c) 1999-2016 Igor Pavlov : 2016-05-21\n",
      "p7zip Version 16.02 (locale=en_US.UTF-8,Utf16=on,HugeFiles=on,64 bits,16 CPUs Intel(R) Xeon(R) CPU E5-2686 v4 @ 2.30GHz (406F1),ASM,AES-NI)\n",
      "\n",
      "Scanning the drive for archives:\n",
      "  0M Sca        1 file, 474092593 bytes (453 MiB)\n",
      "\n",
      "Extracting archive: train.csv.7z\n",
      "--\n",
      "Path = train.csv.7z\n",
      "Type = 7z\n",
      "Physical Size = 474092593\n",
      "Headers Size = 122\n",
      "Method = LZMA2:24\n",
      "Solid = -\n",
      "Blocks = 1\n",
      "\n",
      "      0% - train.c                1% - train.c                2% - train.c                3% - train.c                4% - train.c                5% - train.c                6% - train.c                7% - train.c                8% - train.c                9% - train.c               10% - train.c               11% - train.c               12% - train.c               13% - train.c               14% - train.c               15% - train.c               16% - train.c               17% - train.c               18% - train.c               19% - train.c               20% - train.c               21% - train.c               22% - train.c               23% - train.c               24% - train.c               25% - train.c               26% - train.c               27% - train.c               28% - train.c               29% - train.c               30% - train.c               31% - train.c               32% - train.c               33% - train.c               34% - train.c               35% - train.c               36% - train.c               37% - train.c               38% - train.c               39% - train.c               40% - train.c               41% - train.c               42% - train.c               43% - train.c               44% - train.c               45% - train.c               46% - train.c               47% - train.c               48% - train.c               49% - train.c               50% - train.c               51% - train.c               52% - train.c               53% - train.c               54% - train.c               55% - train.c               56% - train.c               57% - train.c               58% - train.c               59% - train.c               60% - train.c               61% - train.c               62% - train.c               63% - train.c               64% - train.c               65% - train.c               66% - train.c               67% - train.c               68% - train.c               69% - train.c               70% - train.c               71% - train.c               72% - train.c               73% - train.c               74% - train.c               75% - train.c               76% - train.c               77% - train.c               78% - train.c               79% - train.c               80% - train.c               81% - train.c               82% - train.c               83% - train.c               84% - train.c               85% - train.c               86% - train.c               87% - train.c               88% - train.c               89% - train.c               90% - train.c               91% - train.c               92% - train.c               93% - train.c               94% - train.c               95% - train.c               96% - train.c               97% - train.c               98% - train.c               99% - train.c              100%    Everything is Ok\n",
      "\n",
      "Size:       4997452288\n",
      "Compressed: 474092593\n"
     ]
    }
   ],
   "source": [
    "! 7z x train.csv.7z"
   ]
  },
  {
   "cell_type": "code",
   "execution_count": null,
   "metadata": {},
   "outputs": [],
   "source": []
  }
 ],
 "metadata": {
  "kernelspec": {
   "display_name": "conda_python3",
   "language": "python",
   "name": "conda_python3"
  },
  "language_info": {
   "codemirror_mode": {
    "name": "ipython",
    "version": 3
   },
   "file_extension": ".py",
   "mimetype": "text/x-python",
   "name": "python",
   "nbconvert_exporter": "python",
   "pygments_lexer": "ipython3",
   "version": "3.6.5"
  }
 },
 "nbformat": 4,
 "nbformat_minor": 2
}
